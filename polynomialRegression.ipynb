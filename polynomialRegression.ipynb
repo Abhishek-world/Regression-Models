{
 "cells": [
  {
   "cell_type": "code",
   "execution_count": 5,
   "metadata": {},
   "outputs": [
    {
     "name": "stdout",
     "output_type": "stream",
     "text": [
      "[ 6.22436364  9.55256533 18.79678573 19.71765042]\n",
      "origional x\n",
      " [[ 5. ]\n",
      " [ 7.5]\n",
      " [10. ]\n",
      " [12.5]\n",
      " [15. ]\n",
      " [17.5]\n",
      " [20. ]\n",
      " [22.5]\n",
      " [25. ]]\n",
      "transformed X\n",
      " [[1.0000000e+00 5.0000000e+00 2.5000000e+01 1.2500000e+02]\n",
      " [1.0000000e+00 7.5000000e+00 5.6250000e+01 4.2187500e+02]\n",
      " [1.0000000e+00 1.0000000e+01 1.0000000e+02 1.0000000e+03]\n",
      " [1.0000000e+00 1.2500000e+01 1.5625000e+02 1.9531250e+03]\n",
      " [1.0000000e+00 1.5000000e+01 2.2500000e+02 3.3750000e+03]\n",
      " [1.0000000e+00 1.7500000e+01 3.0625000e+02 5.3593750e+03]\n",
      " [1.0000000e+00 2.0000000e+01 4.0000000e+02 8.0000000e+03]\n",
      " [1.0000000e+00 2.2500000e+01 5.0625000e+02 1.1390625e+04]\n",
      " [1.0000000e+00 2.5000000e+01 6.2500000e+02 1.5625000e+04]]\n",
      "origional y\n",
      " [ 5  6  7 10 12 15 18 19 20]\n"
     ]
    },
    {
     "data": {
      "text/plain": [
       "<matplotlib.collections.PathCollection at 0x18ea3433668>"
      ]
     },
     "execution_count": 5,
     "metadata": {},
     "output_type": "execute_result"
    },
    {
     "data": {
      "image/png": "[encoded data removed]",
      "text/plain": [
       "<Figure size 432x288 with 1 Axes>"
      ]
     },
     "metadata": {
      "needs_background": "light"
     },
     "output_type": "display_data"
    }
   ],
   "source": [
    "from sklearn.preprocessing import PolynomialFeatures\n",
    "from sklearn.linear_model import LinearRegression\n",
    "import numpy as np\n",
    "import matplotlib.pyplot as graph\n",
    "%matplotlib inline\n",
    "\n",
    "x=np.linspace(5,25,9).reshape(-1,1)\n",
    "y=np.array([5,6,7,10,12,15,18,19,20])\n",
    "\n",
    "poly=PolynomialFeatures(degree=3,interaction_only=False)\n",
    "X=poly.fit_transform(x)\n",
    "\n",
    "model=LinearRegression()\n",
    "model.fit(X,y)\n",
    "\n",
    "testx=np.array([8.5,12.4,21.7,23.6]).reshape(-1,1)\n",
    "testy=model.predict(poly.fit_transform(testx))\n",
    "\n",
    "print(testy)\n",
    "print('origional x\\n',x)\n",
    "print('transformed X\\n',X)\n",
    "print('origional y\\n',y)\n",
    "\n",
    "graph.scatter(x[:,0],y,color='red')\n",
    "graph.plot(x[:,0],model.predict(X),color='blue')\n",
    "graph.scatter(testx[:,0],testy,color='green')"
   ]
  },
  {
   "cell_type": "code",
   "execution_count": null,
   "metadata": {},
   "outputs": [],
   "source": []
  }
 ],
 "metadata": {
  "kernelspec": {
   "display_name": "Python 3",
   "language": "python",
   "name": "python3"
  },
  "language_info": {
   "codemirror_mode": {
    "name": "ipython",
    "version": 3
   },
   "file_extension": ".py",
   "mimetype": "text/x-python",
   "name": "python",
   "nbconvert_exporter": "python",
   "pygments_lexer": "ipython3",
   "version": "3.7.3"
  }
 },
 "nbformat": 4,
 "nbformat_minor": 2
}
