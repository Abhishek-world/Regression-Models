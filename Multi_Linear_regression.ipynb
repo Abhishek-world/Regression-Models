{
 "cells": [
  {
   "cell_type": "code",
   "execution_count": 68,
   "metadata": {},
   "outputs": [],
   "source": [
    "# multilinear Regression\n",
    "import numpy as np\n",
    "import pandas as pd\n",
    "from numpy.linalg import inv\n",
    "from sklearn.linear_model import LinearRegression\n",
    "import matplotlib.pyplot as plt \n",
    "from sklearn.model_selection import train_test_split\n",
    "import category_encoders as ce"
   ]
  },
  {
   "cell_type": "code",
   "execution_count": 69,
   "metadata": {},
   "outputs": [],
   "source": [
    "data = pd.read_csv('Fish.csv')\n",
    "ce_binary = ce.OrdinalEncoder(cols=['Species'])\n",
    "data=ce_binary.fit_transform(data)"
   ]
  },
  {
   "cell_type": "code",
   "execution_count": 70,
   "metadata": {},
   "outputs": [
    {
     "data": {
      "text/html": [
       "<div>\n",
       "<style scoped>\n",
       "    .dataframe tbody tr th:only-of-type {\n",
       "        vertical-align: middle;\n",
       "    }\n",
       "\n",
       "    .dataframe tbody tr th {\n",
       "        vertical-align: top;\n",
       "    }\n",
       "\n",
       "    .dataframe thead th {\n",
       "        text-align: right;\n",
       "    }\n",
       "</style>\n",
       "<table border=\"1\" class=\"dataframe\">\n",
       "  <thead>\n",
       "    <tr style=\"text-align: right;\">\n",
       "      <th></th>\n",
       "      <th>Species</th>\n",
       "      <th>Weight</th>\n",
       "      <th>Length1</th>\n",
       "      <th>Length2</th>\n",
       "      <th>Length3</th>\n",
       "      <th>Height</th>\n",
       "      <th>Width</th>\n",
       "    </tr>\n",
       "  </thead>\n",
       "  <tbody>\n",
       "    <tr>\n",
       "      <th>0</th>\n",
       "      <td>1</td>\n",
       "      <td>242.0</td>\n",
       "      <td>23.2</td>\n",
       "      <td>25.4</td>\n",
       "      <td>30.0</td>\n",
       "      <td>11.5200</td>\n",
       "      <td>4.0200</td>\n",
       "    </tr>\n",
       "    <tr>\n",
       "      <th>1</th>\n",
       "      <td>1</td>\n",
       "      <td>290.0</td>\n",
       "      <td>24.0</td>\n",
       "      <td>26.3</td>\n",
       "      <td>31.2</td>\n",
       "      <td>12.4800</td>\n",
       "      <td>4.3056</td>\n",
       "    </tr>\n",
       "    <tr>\n",
       "      <th>2</th>\n",
       "      <td>1</td>\n",
       "      <td>340.0</td>\n",
       "      <td>23.9</td>\n",
       "      <td>26.5</td>\n",
       "      <td>31.1</td>\n",
       "      <td>12.3778</td>\n",
       "      <td>4.6961</td>\n",
       "    </tr>\n",
       "    <tr>\n",
       "      <th>3</th>\n",
       "      <td>1</td>\n",
       "      <td>363.0</td>\n",
       "      <td>26.3</td>\n",
       "      <td>29.0</td>\n",
       "      <td>33.5</td>\n",
       "      <td>12.7300</td>\n",
       "      <td>4.4555</td>\n",
       "    </tr>\n",
       "    <tr>\n",
       "      <th>4</th>\n",
       "      <td>1</td>\n",
       "      <td>430.0</td>\n",
       "      <td>26.5</td>\n",
       "      <td>29.0</td>\n",
       "      <td>34.0</td>\n",
       "      <td>12.4440</td>\n",
       "      <td>5.1340</td>\n",
       "    </tr>\n",
       "    <tr>\n",
       "      <th>...</th>\n",
       "      <td>...</td>\n",
       "      <td>...</td>\n",
       "      <td>...</td>\n",
       "      <td>...</td>\n",
       "      <td>...</td>\n",
       "      <td>...</td>\n",
       "      <td>...</td>\n",
       "    </tr>\n",
       "    <tr>\n",
       "      <th>154</th>\n",
       "      <td>7</td>\n",
       "      <td>12.2</td>\n",
       "      <td>11.5</td>\n",
       "      <td>12.2</td>\n",
       "      <td>13.4</td>\n",
       "      <td>2.0904</td>\n",
       "      <td>1.3936</td>\n",
       "    </tr>\n",
       "    <tr>\n",
       "      <th>155</th>\n",
       "      <td>7</td>\n",
       "      <td>13.4</td>\n",
       "      <td>11.7</td>\n",
       "      <td>12.4</td>\n",
       "      <td>13.5</td>\n",
       "      <td>2.4300</td>\n",
       "      <td>1.2690</td>\n",
       "    </tr>\n",
       "    <tr>\n",
       "      <th>156</th>\n",
       "      <td>7</td>\n",
       "      <td>12.2</td>\n",
       "      <td>12.1</td>\n",
       "      <td>13.0</td>\n",
       "      <td>13.8</td>\n",
       "      <td>2.2770</td>\n",
       "      <td>1.2558</td>\n",
       "    </tr>\n",
       "    <tr>\n",
       "      <th>157</th>\n",
       "      <td>7</td>\n",
       "      <td>19.7</td>\n",
       "      <td>13.2</td>\n",
       "      <td>14.3</td>\n",
       "      <td>15.2</td>\n",
       "      <td>2.8728</td>\n",
       "      <td>2.0672</td>\n",
       "    </tr>\n",
       "    <tr>\n",
       "      <th>158</th>\n",
       "      <td>7</td>\n",
       "      <td>19.9</td>\n",
       "      <td>13.8</td>\n",
       "      <td>15.0</td>\n",
       "      <td>16.2</td>\n",
       "      <td>2.9322</td>\n",
       "      <td>1.8792</td>\n",
       "    </tr>\n",
       "  </tbody>\n",
       "</table>\n",
       "<p>159 rows × 7 columns</p>\n",
       "</div>"
      ],
      "text/plain": [
       "     Species  Weight  Length1  Length2  Length3   Height   Width\n",
       "0          1   242.0     23.2     25.4     30.0  11.5200  4.0200\n",
       "1          1   290.0     24.0     26.3     31.2  12.4800  4.3056\n",
       "2          1   340.0     23.9     26.5     31.1  12.3778  4.6961\n",
       "3          1   363.0     26.3     29.0     33.5  12.7300  4.4555\n",
       "4          1   430.0     26.5     29.0     34.0  12.4440  5.1340\n",
       "..       ...     ...      ...      ...      ...      ...     ...\n",
       "154        7    12.2     11.5     12.2     13.4   2.0904  1.3936\n",
       "155        7    13.4     11.7     12.4     13.5   2.4300  1.2690\n",
       "156        7    12.2     12.1     13.0     13.8   2.2770  1.2558\n",
       "157        7    19.7     13.2     14.3     15.2   2.8728  2.0672\n",
       "158        7    19.9     13.8     15.0     16.2   2.9322  1.8792\n",
       "\n",
       "[159 rows x 7 columns]"
      ]
     },
     "execution_count": 70,
     "metadata": {},
     "output_type": "execute_result"
    }
   ],
   "source": [
    "data"
   ]
  },
  {
   "cell_type": "code",
   "execution_count": 71,
   "metadata": {},
   "outputs": [
    {
     "data": {
      "text/plain": [
       "array([ 242. ,  290. ,  340. ,  363. ,  430. ,  450. ,  500. ,  390. ,\n",
       "        450. ,  500. ,  475. ,  500. ,  500. ,  340. ,  600. ,  600. ,\n",
       "        700. ,  700. ,  610. ,  650. ,  575. ,  685. ,  620. ,  680. ,\n",
       "        700. ,  725. ,  720. ,  714. ,  850. , 1000. ,  920. ,  955. ,\n",
       "        925. ,  975. ,  950. ,   40. ,   69. ,   78. ,   87. ,  120. ,\n",
       "          0. ,  110. ,  120. ,  150. ,  145. ,  160. ,  140. ,  160. ,\n",
       "        169. ,  161. ,  200. ,  180. ,  290. ,  272. ,  390. ,  270. ,\n",
       "        270. ,  306. ,  540. ,  800. , 1000. ,   55. ,   60. ,   90. ,\n",
       "        120. ,  150. ,  140. ,  170. ,  145. ,  200. ,  273. ,  300. ,\n",
       "          5.9,   32. ,   40. ,   51.5,   70. ,  100. ,   78. ,   80. ,\n",
       "         85. ,   85. ,  110. ,  115. ,  125. ,  130. ,  120. ,  120. ,\n",
       "        130. ,  135. ,  110. ,  130. ,  150. ,  145. ,  150. ,  170. ,\n",
       "        225. ,  145. ,  188. ,  180. ,  197. ,  218. ,  300. ,  260. ,\n",
       "        265. ,  250. ,  250. ,  300. ,  320. ,  514. ,  556. ,  840. ,\n",
       "        685. ,  700. ,  700. ,  690. ,  900. ,  650. ,  820. ,  850. ,\n",
       "        900. , 1015. ,  820. , 1100. , 1000. , 1100. , 1000. , 1000. ,\n",
       "        200. ,  300. ,  300. ,  300. ,  430. ,  345. ,  456. ,  510. ,\n",
       "        540. ,  500. ,  567. ,  770. ,  950. , 1250. , 1600. , 1550. ,\n",
       "       1650. ,    6.7,    7.5,    7. ,    9.7,    9.8,    8.7,   10. ,\n",
       "          9.9,    9.8,   12.2,   13.4,   12.2,   19.7,   19.9])"
      ]
     },
     "execution_count": 71,
     "metadata": {},
     "output_type": "execute_result"
    }
   ],
   "source": [
    "y = np.array(data.iloc[:,1])\n",
    "data = data.drop('Weight', 1)\n",
    "y"
   ]
  },
  {
   "cell_type": "code",
   "execution_count": 72,
   "metadata": {},
   "outputs": [
    {
     "data": {
      "text/html": [
       "<div>\n",
       "<style scoped>\n",
       "    .dataframe tbody tr th:only-of-type {\n",
       "        vertical-align: middle;\n",
       "    }\n",
       "\n",
       "    .dataframe tbody tr th {\n",
       "        vertical-align: top;\n",
       "    }\n",
       "\n",
       "    .dataframe thead th {\n",
       "        text-align: right;\n",
       "    }\n",
       "</style>\n",
       "<table border=\"1\" class=\"dataframe\">\n",
       "  <thead>\n",
       "    <tr style=\"text-align: right;\">\n",
       "      <th></th>\n",
       "      <th>bias</th>\n",
       "      <th>Species</th>\n",
       "      <th>Length1</th>\n",
       "      <th>Length2</th>\n",
       "      <th>Length3</th>\n",
       "      <th>Height</th>\n",
       "      <th>Width</th>\n",
       "    </tr>\n",
       "  </thead>\n",
       "  <tbody>\n",
       "    <tr>\n",
       "      <th>0</th>\n",
       "      <td>1</td>\n",
       "      <td>1</td>\n",
       "      <td>23.2</td>\n",
       "      <td>25.4</td>\n",
       "      <td>30.0</td>\n",
       "      <td>11.5200</td>\n",
       "      <td>4.0200</td>\n",
       "    </tr>\n",
       "    <tr>\n",
       "      <th>1</th>\n",
       "      <td>1</td>\n",
       "      <td>1</td>\n",
       "      <td>24.0</td>\n",
       "      <td>26.3</td>\n",
       "      <td>31.2</td>\n",
       "      <td>12.4800</td>\n",
       "      <td>4.3056</td>\n",
       "    </tr>\n",
       "    <tr>\n",
       "      <th>2</th>\n",
       "      <td>1</td>\n",
       "      <td>1</td>\n",
       "      <td>23.9</td>\n",
       "      <td>26.5</td>\n",
       "      <td>31.1</td>\n",
       "      <td>12.3778</td>\n",
       "      <td>4.6961</td>\n",
       "    </tr>\n",
       "    <tr>\n",
       "      <th>3</th>\n",
       "      <td>1</td>\n",
       "      <td>1</td>\n",
       "      <td>26.3</td>\n",
       "      <td>29.0</td>\n",
       "      <td>33.5</td>\n",
       "      <td>12.7300</td>\n",
       "      <td>4.4555</td>\n",
       "    </tr>\n",
       "    <tr>\n",
       "      <th>4</th>\n",
       "      <td>1</td>\n",
       "      <td>1</td>\n",
       "      <td>26.5</td>\n",
       "      <td>29.0</td>\n",
       "      <td>34.0</td>\n",
       "      <td>12.4440</td>\n",
       "      <td>5.1340</td>\n",
       "    </tr>\n",
       "    <tr>\n",
       "      <th>...</th>\n",
       "      <td>...</td>\n",
       "      <td>...</td>\n",
       "      <td>...</td>\n",
       "      <td>...</td>\n",
       "      <td>...</td>\n",
       "      <td>...</td>\n",
       "      <td>...</td>\n",
       "    </tr>\n",
       "    <tr>\n",
       "      <th>154</th>\n",
       "      <td>1</td>\n",
       "      <td>7</td>\n",
       "      <td>11.5</td>\n",
       "      <td>12.2</td>\n",
       "      <td>13.4</td>\n",
       "      <td>2.0904</td>\n",
       "      <td>1.3936</td>\n",
       "    </tr>\n",
       "    <tr>\n",
       "      <th>155</th>\n",
       "      <td>1</td>\n",
       "      <td>7</td>\n",
       "      <td>11.7</td>\n",
       "      <td>12.4</td>\n",
       "      <td>13.5</td>\n",
       "      <td>2.4300</td>\n",
       "      <td>1.2690</td>\n",
       "    </tr>\n",
       "    <tr>\n",
       "      <th>156</th>\n",
       "      <td>1</td>\n",
       "      <td>7</td>\n",
       "      <td>12.1</td>\n",
       "      <td>13.0</td>\n",
       "      <td>13.8</td>\n",
       "      <td>2.2770</td>\n",
       "      <td>1.2558</td>\n",
       "    </tr>\n",
       "    <tr>\n",
       "      <th>157</th>\n",
       "      <td>1</td>\n",
       "      <td>7</td>\n",
       "      <td>13.2</td>\n",
       "      <td>14.3</td>\n",
       "      <td>15.2</td>\n",
       "      <td>2.8728</td>\n",
       "      <td>2.0672</td>\n",
       "    </tr>\n",
       "    <tr>\n",
       "      <th>158</th>\n",
       "      <td>1</td>\n",
       "      <td>7</td>\n",
       "      <td>13.8</td>\n",
       "      <td>15.0</td>\n",
       "      <td>16.2</td>\n",
       "      <td>2.9322</td>\n",
       "      <td>1.8792</td>\n",
       "    </tr>\n",
       "  </tbody>\n",
       "</table>\n",
       "<p>159 rows × 7 columns</p>\n",
       "</div>"
      ],
      "text/plain": [
       "     bias  Species  Length1  Length2  Length3   Height   Width\n",
       "0       1        1     23.2     25.4     30.0  11.5200  4.0200\n",
       "1       1        1     24.0     26.3     31.2  12.4800  4.3056\n",
       "2       1        1     23.9     26.5     31.1  12.3778  4.6961\n",
       "3       1        1     26.3     29.0     33.5  12.7300  4.4555\n",
       "4       1        1     26.5     29.0     34.0  12.4440  5.1340\n",
       "..    ...      ...      ...      ...      ...      ...     ...\n",
       "154     1        7     11.5     12.2     13.4   2.0904  1.3936\n",
       "155     1        7     11.7     12.4     13.5   2.4300  1.2690\n",
       "156     1        7     12.1     13.0     13.8   2.2770  1.2558\n",
       "157     1        7     13.2     14.3     15.2   2.8728  2.0672\n",
       "158     1        7     13.8     15.0     16.2   2.9322  1.8792\n",
       "\n",
       "[159 rows x 7 columns]"
      ]
     },
     "execution_count": 72,
     "metadata": {},
     "output_type": "execute_result"
    }
   ],
   "source": [
    "data.insert(0,column='bias',value=1)\n",
    "data"
   ]
  },
  {
   "cell_type": "code",
   "execution_count": 73,
   "metadata": {},
   "outputs": [],
   "source": [
    "\n",
    "X = np.array(data)"
   ]
  },
  {
   "cell_type": "code",
   "execution_count": 74,
   "metadata": {},
   "outputs": [],
   "source": [
    "prod = X.T.dot(X)"
   ]
  },
  {
   "cell_type": "code",
   "execution_count": 75,
   "metadata": {},
   "outputs": [],
   "source": [
    "prod = inv(prod)"
   ]
  },
  {
   "cell_type": "code",
   "execution_count": 76,
   "metadata": {},
   "outputs": [],
   "source": [
    "prod = prod.dot(X.T)"
   ]
  },
  {
   "cell_type": "code",
   "execution_count": 77,
   "metadata": {},
   "outputs": [],
   "source": [
    "b = prod.dot(y)"
   ]
  },
  {
   "cell_type": "code",
   "execution_count": 78,
   "metadata": {},
   "outputs": [
    {
     "data": {
      "text/plain": [
       "array([-767.22981028,   46.28472951,   29.36468946,  -44.04613019,\n",
       "         31.68245855,   25.56025405,   56.17685323])"
      ]
     },
     "execution_count": 78,
     "metadata": {},
     "output_type": "execute_result"
    }
   ],
   "source": [
    "b"
   ]
  },
  {
   "cell_type": "code",
   "execution_count": 79,
   "metadata": {},
   "outputs": [],
   "source": [
    "predy = X.dot(b)"
   ]
  },
  {
   "cell_type": "code",
   "execution_count": 80,
   "metadata": {},
   "outputs": [
    {
     "data": {
      "text/plain": [
       "array([ 3.12302841e+02,  3.74753979e+02,  3.79164841e+02,  4.11048842e+02,\n",
       "        4.63568771e+02,  4.81726468e+02,  5.09864492e+02,  4.64340352e+02,\n",
       "        5.10268981e+02,  5.52876368e+02,  5.45785749e+02,  5.41102183e+02,\n",
       "        4.96424915e+02,  5.58183996e+02,  5.84205617e+02,  6.19554124e+02,\n",
       "        6.08410084e+02,  6.11792106e+02,  6.21805543e+02,  6.31638627e+02,\n",
       "        6.51623673e+02,  6.55982769e+02,  6.35628308e+02,  6.97324467e+02,\n",
       "        6.86397266e+02,  7.25265526e+02,  7.23747043e+02,  7.19339180e+02,\n",
       "        7.54455396e+02,  8.38219431e+02,  8.23535296e+02,  8.20767609e+02,\n",
       "        8.95988930e+02,  8.80995455e+02,  8.70591884e+02, -1.70237876e+02,\n",
       "       -5.46885152e+01, -1.15036070e+01,  1.29149602e+01,  5.36206967e+01,\n",
       "        5.64732329e+01,  5.03182214e+01,  6.22742950e+01,  9.71960482e+01,\n",
       "        9.70530705e+01,  1.32231978e+02,  9.72293629e+01,  1.23015799e+02,\n",
       "        1.84049211e+02,  1.67351228e+02,  2.09222311e+02,  1.92886518e+02,\n",
       "        2.89529937e+02,  3.26860685e+02,  4.47487769e+02,  2.81540180e+02,\n",
       "        2.87252834e+02,  3.53253973e+02,  5.63543463e+02,  6.82464055e+02,\n",
       "        7.65594380e+02, -4.66584357e+00,  4.50330458e+00,  8.36892429e+01,\n",
       "        1.48187506e+02,  1.99265231e+02,  2.02408601e+02,  2.30866038e+02,\n",
       "        2.42106212e+02,  3.15037756e+02,  3.95461527e+02,  4.24675332e+02,\n",
       "       -2.73672584e+02, -1.03962046e+02, -4.99815457e+01,  1.27307483e+00,\n",
       "        2.74569390e+01,  7.54575737e+01,  5.68533378e+01,  8.77788026e+01,\n",
       "        8.44925249e+01,  6.86596595e+01,  1.55219980e+02,  1.47067266e+02,\n",
       "        1.61539876e+02,  1.76815487e+02,  1.74606318e+02,  1.69193779e+02,\n",
       "        1.81207098e+02,  1.75200438e+02,  1.92593570e+02,  1.88776811e+02,\n",
       "        2.12701209e+02,  1.94998532e+02,  1.81095012e+02,  2.22161437e+02,\n",
       "        2.56569931e+02,  2.38835657e+02,  2.80510380e+02,  2.49536287e+02,\n",
       "        2.87943995e+02,  3.34210244e+02,  4.12346560e+02,  3.41133533e+02,\n",
       "        3.38178768e+02,  3.57076387e+02,  3.58982067e+02,  3.97903874e+02,\n",
       "        4.23024132e+02,  5.86749037e+02,  6.61670541e+02,  7.90271709e+02,\n",
       "        7.54244455e+02,  7.40218978e+02,  7.24728541e+02,  7.23496788e+02,\n",
       "        8.35469666e+02,  7.51743684e+02,  8.60353637e+02,  8.30186904e+02,\n",
       "        8.41046173e+02,  8.67848925e+02,  7.95349063e+02,  8.85538372e+02,\n",
       "        8.84787602e+02,  9.25744461e+02,  9.65594165e+02,  9.55380457e+02,\n",
       "        4.03228883e+02,  5.20843903e+02,  5.56406435e+02,  5.36963770e+02,\n",
       "        6.05739288e+02,  5.57710906e+02,  6.83560574e+02,  6.79598799e+02,\n",
       "        7.32252542e+02,  7.35418918e+02,  7.68593669e+02,  8.32253797e+02,\n",
       "        9.72146139e+02,  1.12783615e+03,  1.13033974e+03,  1.13033974e+03,\n",
       "        1.30143810e+03, -1.56331574e+02, -1.28987686e+02, -1.37333960e+02,\n",
       "       -1.08507487e+02, -1.04492500e+02, -1.01858565e+02, -8.74121514e+01,\n",
       "       -9.40354024e+01, -9.79658310e+01, -8.66414009e+01, -8.47288169e+01,\n",
       "       -9.45581350e+01, -1.43508057e+01, -4.92479397e+00])"
      ]
     },
     "execution_count": 80,
     "metadata": {},
     "output_type": "execute_result"
    }
   ],
   "source": [
    "predy"
   ]
  },
  {
   "cell_type": "code",
   "execution_count": null,
   "metadata": {},
   "outputs": [],
   "source": []
  },
  {
   "cell_type": "code",
   "execution_count": 81,
   "metadata": {},
   "outputs": [
    {
     "ename": "NameError",
     "evalue": "name 'indep' is not defined",
     "output_type": "error",
     "traceback": [
      "\u001b[0;31m---------------------------------------------------------------------------\u001b[0m",
      "\u001b[0;31mNameError\u001b[0m                                 Traceback (most recent call last)",
      "\u001b[0;32m<ipython-input-81-7ab03d047a6a>\u001b[0m in \u001b[0;36m<module>\u001b[0;34m\u001b[0m\n\u001b[0;32m----> 1\u001b[0;31m \u001b[0mplt\u001b[0m\u001b[0;34m.\u001b[0m\u001b[0mplot\u001b[0m\u001b[0;34m(\u001b[0m\u001b[0mindep\u001b[0m\u001b[0;34m,\u001b[0m\u001b[0my\u001b[0m\u001b[0;34m)\u001b[0m\u001b[0;34m\u001b[0m\u001b[0;34m\u001b[0m\u001b[0m\n\u001b[0m",
      "\u001b[0;31mNameError\u001b[0m: name 'indep' is not defined"
     ]
    }
   ],
   "source": [
    "plt.plot(indep,y)"
   ]
  },
  {
   "cell_type": "code",
   "execution_count": null,
   "metadata": {},
   "outputs": [],
   "source": [
    "plt.plot(indep,predy)"
   ]
  },
  {
   "cell_type": "code",
   "execution_count": null,
   "metadata": {},
   "outputs": [],
   "source": [
    "model = LinearRegression()"
   ]
  },
  {
   "cell_type": "code",
   "execution_count": null,
   "metadata": {},
   "outputs": [],
   "source": [
    "model.fit(X,y)"
   ]
  },
  {
   "cell_type": "code",
   "execution_count": null,
   "metadata": {},
   "outputs": [],
   "source": [
    "y_cap = model.predict(X)\n",
    "y"
   ]
  },
  {
   "cell_type": "code",
   "execution_count": 62,
   "metadata": {},
   "outputs": [
    {
     "ename": "NameError",
     "evalue": "name 'y_cap' is not defined",
     "output_type": "error",
     "traceback": [
      "\u001b[0;31m---------------------------------------------------------------------------\u001b[0m",
      "\u001b[0;31mNameError\u001b[0m                                 Traceback (most recent call last)",
      "\u001b[0;32m<ipython-input-62-eb142fa06820>\u001b[0m in \u001b[0;36m<module>\u001b[0;34m\u001b[0m\n\u001b[0;32m----> 1\u001b[0;31m \u001b[0my_cap\u001b[0m\u001b[0;34m\u001b[0m\u001b[0;34m\u001b[0m\u001b[0m\n\u001b[0m",
      "\u001b[0;31mNameError\u001b[0m: name 'y_cap' is not defined"
     ]
    }
   ],
   "source": [
    "y_cap"
   ]
  },
  {
   "cell_type": "code",
   "execution_count": null,
   "metadata": {},
   "outputs": [],
   "source": [
    "plt.plot(indep,y)"
   ]
  },
  {
   "cell_type": "code",
   "execution_count": null,
   "metadata": {},
   "outputs": [],
   "source": [
    "plt.plot(indep,y_cap)"
   ]
  },
  {
   "cell_type": "code",
   "execution_count": 63,
   "metadata": {},
   "outputs": [],
   "source": [
    "trainx, testx, trainy, testy = train_test_split(X,y, test_size=0.5, random_state=50)"
   ]
  },
  {
   "cell_type": "code",
   "execution_count": 64,
   "metadata": {},
   "outputs": [
    {
     "ename": "NameError",
     "evalue": "name 'model' is not defined",
     "output_type": "error",
     "traceback": [
      "\u001b[0;31m---------------------------------------------------------------------------\u001b[0m",
      "\u001b[0;31mNameError\u001b[0m                                 Traceback (most recent call last)",
      "\u001b[0;32m<ipython-input-64-8c2ebec0a4df>\u001b[0m in \u001b[0;36m<module>\u001b[0;34m\u001b[0m\n\u001b[0;32m----> 1\u001b[0;31m \u001b[0mmodel\u001b[0m\u001b[0;34m.\u001b[0m\u001b[0mfit\u001b[0m\u001b[0;34m(\u001b[0m\u001b[0mtrainx\u001b[0m\u001b[0;34m,\u001b[0m \u001b[0mtrainy\u001b[0m\u001b[0;34m)\u001b[0m\u001b[0;34m\u001b[0m\u001b[0;34m\u001b[0m\u001b[0m\n\u001b[0m",
      "\u001b[0;31mNameError\u001b[0m: name 'model' is not defined"
     ]
    }
   ],
   "source": [
    "model.fit(trainx, trainy)"
   ]
  },
  {
   "cell_type": "code",
   "execution_count": null,
   "metadata": {},
   "outputs": [],
   "source": [
    "y_cap1 = model.predict(testx)"
   ]
  },
  {
   "cell_type": "code",
   "execution_count": null,
   "metadata": {},
   "outputs": [],
   "source": [
    "plt.plot(trainx, trainy)"
   ]
  },
  {
   "cell_type": "code",
   "execution_count": null,
   "metadata": {},
   "outputs": [],
   "source": [
    "plt.plot(testx, testy)"
   ]
  },
  {
   "cell_type": "code",
   "execution_count": null,
   "metadata": {},
   "outputs": [],
   "source": [
    "np.linspace(1,4,5)"
   ]
  },
  {
   "cell_type": "code",
   "execution_count": 65,
   "metadata": {},
   "outputs": [
    {
     "data": {
      "text/plain": [
       "array([ 3.12302841e+02,  3.74753979e+02,  3.79164841e+02,  4.11048842e+02,\n",
       "        4.63568771e+02,  4.81726468e+02,  5.09864492e+02,  4.64340352e+02,\n",
       "        5.10268981e+02,  5.52876368e+02,  5.45785749e+02,  5.41102183e+02,\n",
       "        4.96424915e+02,  5.58183996e+02,  5.84205617e+02,  6.19554124e+02,\n",
       "        6.08410084e+02,  6.11792106e+02,  6.21805543e+02,  6.31638627e+02,\n",
       "        6.51623673e+02,  6.55982769e+02,  6.35628308e+02,  6.97324467e+02,\n",
       "        6.86397266e+02,  7.25265526e+02,  7.23747043e+02,  7.19339180e+02,\n",
       "        7.54455396e+02,  8.38219431e+02,  8.23535296e+02,  8.20767609e+02,\n",
       "        8.95988930e+02,  8.80995455e+02,  8.70591884e+02, -1.70237876e+02,\n",
       "       -5.46885152e+01, -1.15036070e+01,  1.29149602e+01,  5.36206967e+01,\n",
       "        5.64732329e+01,  5.03182214e+01,  6.22742950e+01,  9.71960482e+01,\n",
       "        9.70530705e+01,  1.32231978e+02,  9.72293629e+01,  1.23015799e+02,\n",
       "        1.84049211e+02,  1.67351228e+02,  2.09222311e+02,  1.92886518e+02,\n",
       "        2.89529937e+02,  3.26860685e+02,  4.47487769e+02,  2.81540180e+02,\n",
       "        2.87252834e+02,  3.53253973e+02,  5.63543463e+02,  6.82464055e+02,\n",
       "        7.65594380e+02, -4.66584357e+00,  4.50330458e+00,  8.36892429e+01,\n",
       "        1.48187506e+02,  1.99265231e+02,  2.02408601e+02,  2.30866038e+02,\n",
       "        2.42106212e+02,  3.15037756e+02,  3.95461527e+02,  4.24675332e+02,\n",
       "       -2.73672584e+02, -1.03962046e+02, -4.99815457e+01,  1.27307483e+00,\n",
       "        2.74569390e+01,  7.54575737e+01,  5.68533378e+01,  8.77788026e+01,\n",
       "        8.44925249e+01,  6.86596595e+01,  1.55219980e+02,  1.47067266e+02,\n",
       "        1.61539876e+02,  1.76815487e+02,  1.74606318e+02,  1.69193779e+02,\n",
       "        1.81207098e+02,  1.75200438e+02,  1.92593570e+02,  1.88776811e+02,\n",
       "        2.12701209e+02,  1.94998532e+02,  1.81095012e+02,  2.22161437e+02,\n",
       "        2.56569931e+02,  2.38835657e+02,  2.80510380e+02,  2.49536287e+02,\n",
       "        2.87943995e+02,  3.34210244e+02,  4.12346560e+02,  3.41133533e+02,\n",
       "        3.38178768e+02,  3.57076387e+02,  3.58982067e+02,  3.97903874e+02,\n",
       "        4.23024132e+02,  5.86749037e+02,  6.61670541e+02,  7.90271709e+02,\n",
       "        7.54244455e+02,  7.40218978e+02,  7.24728541e+02,  7.23496788e+02,\n",
       "        8.35469666e+02,  7.51743684e+02,  8.60353637e+02,  8.30186904e+02,\n",
       "        8.41046173e+02,  8.67848925e+02,  7.95349063e+02,  8.85538372e+02,\n",
       "        8.84787602e+02,  9.25744461e+02,  9.65594165e+02,  9.55380457e+02,\n",
       "        4.03228883e+02,  5.20843903e+02,  5.56406435e+02,  5.36963770e+02,\n",
       "        6.05739288e+02,  5.57710906e+02,  6.83560574e+02,  6.79598799e+02,\n",
       "        7.32252542e+02,  7.35418918e+02,  7.68593669e+02,  8.32253797e+02,\n",
       "        9.72146139e+02,  1.12783615e+03,  1.13033974e+03,  1.13033974e+03,\n",
       "        1.30143810e+03, -1.56331574e+02, -1.28987686e+02, -1.37333960e+02,\n",
       "       -1.08507487e+02, -1.04492500e+02, -1.01858565e+02, -8.74121514e+01,\n",
       "       -9.40354024e+01, -9.79658310e+01, -8.66414009e+01, -8.47288169e+01,\n",
       "       -9.45581350e+01, -1.43508057e+01, -4.92479397e+00])"
      ]
     },
     "execution_count": 65,
     "metadata": {},
     "output_type": "execute_result"
    }
   ],
   "source": [
    "predy"
   ]
  },
  {
   "cell_type": "code",
   "execution_count": 66,
   "metadata": {},
   "outputs": [
    {
     "data": {
      "text/plain": [
       "array([ 242. ,  290. ,  340. ,  363. ,  430. ,  450. ,  500. ,  390. ,\n",
       "        450. ,  500. ,  475. ,  500. ,  500. ,  340. ,  600. ,  600. ,\n",
       "        700. ,  700. ,  610. ,  650. ,  575. ,  685. ,  620. ,  680. ,\n",
       "        700. ,  725. ,  720. ,  714. ,  850. , 1000. ,  920. ,  955. ,\n",
       "        925. ,  975. ,  950. ,   40. ,   69. ,   78. ,   87. ,  120. ,\n",
       "          0. ,  110. ,  120. ,  150. ,  145. ,  160. ,  140. ,  160. ,\n",
       "        169. ,  161. ,  200. ,  180. ,  290. ,  272. ,  390. ,  270. ,\n",
       "        270. ,  306. ,  540. ,  800. , 1000. ,   55. ,   60. ,   90. ,\n",
       "        120. ,  150. ,  140. ,  170. ,  145. ,  200. ,  273. ,  300. ,\n",
       "          5.9,   32. ,   40. ,   51.5,   70. ,  100. ,   78. ,   80. ,\n",
       "         85. ,   85. ,  110. ,  115. ,  125. ,  130. ,  120. ,  120. ,\n",
       "        130. ,  135. ,  110. ,  130. ,  150. ,  145. ,  150. ,  170. ,\n",
       "        225. ,  145. ,  188. ,  180. ,  197. ,  218. ,  300. ,  260. ,\n",
       "        265. ,  250. ,  250. ,  300. ,  320. ,  514. ,  556. ,  840. ,\n",
       "        685. ,  700. ,  700. ,  690. ,  900. ,  650. ,  820. ,  850. ,\n",
       "        900. , 1015. ,  820. , 1100. , 1000. , 1100. , 1000. , 1000. ,\n",
       "        200. ,  300. ,  300. ,  300. ,  430. ,  345. ,  456. ,  510. ,\n",
       "        540. ,  500. ,  567. ,  770. ,  950. , 1250. , 1600. , 1550. ,\n",
       "       1650. ,    6.7,    7.5,    7. ,    9.7,    9.8,    8.7,   10. ,\n",
       "          9.9,    9.8,   12.2,   13.4,   12.2,   19.7,   19.9])"
      ]
     },
     "execution_count": 66,
     "metadata": {},
     "output_type": "execute_result"
    }
   ],
   "source": [
    "y"
   ]
  },
  {
   "cell_type": "code",
   "execution_count": 67,
   "metadata": {},
   "outputs": [
    {
     "ename": "NameError",
     "evalue": "name 'model' is not defined",
     "output_type": "error",
     "traceback": [
      "\u001b[0;31m---------------------------------------------------------------------------\u001b[0m",
      "\u001b[0;31mNameError\u001b[0m                                 Traceback (most recent call last)",
      "\u001b[0;32m<ipython-input-67-585343871d29>\u001b[0m in \u001b[0;36m<module>\u001b[0;34m\u001b[0m\n\u001b[0;32m----> 1\u001b[0;31m \u001b[0mmodel\u001b[0m\u001b[0;34m.\u001b[0m\u001b[0mscore\u001b[0m\u001b[0;34m(\u001b[0m\u001b[0mX\u001b[0m\u001b[0;34m,\u001b[0m\u001b[0my\u001b[0m\u001b[0;34m)\u001b[0m\u001b[0;34m\u001b[0m\u001b[0;34m\u001b[0m\u001b[0m\n\u001b[0m",
      "\u001b[0;31mNameError\u001b[0m: name 'model' is not defined"
     ]
    }
   ],
   "source": []
  },
  {
   "cell_type": "code",
   "execution_count": null,
   "metadata": {},
   "outputs": [],
   "source": []
  },
  {
   "cell_type": "code",
   "execution_count": null,
   "metadata": {},
   "outputs": [],
   "source": []
  },
  {
   "cell_type": "code",
   "execution_count": null,
   "metadata": {},
   "outputs": [],
   "source": []
  },
  {
   "cell_type": "code",
   "execution_count": null,
   "metadata": {},
   "outputs": [],
   "source": []
  },
  {
   "cell_type": "code",
   "execution_count": null,
   "metadata": {},
   "outputs": [],
   "source": []
  },
  {
   "cell_type": "code",
   "execution_count": null,
   "metadata": {},
   "outputs": [],
   "source": []
  },
  {
   "cell_type": "code",
   "execution_count": null,
   "metadata": {},
   "outputs": [],
   "source": []
  },
  {
   "cell_type": "code",
   "execution_count": null,
   "metadata": {},
   "outputs": [],
   "source": []
  },
  {
   "cell_type": "code",
   "execution_count": null,
   "metadata": {},
   "outputs": [],
   "source": []
  },
  {
   "cell_type": "code",
   "execution_count": null,
   "metadata": {},
   "outputs": [],
   "source": []
  },
  {
   "cell_type": "code",
   "execution_count": null,
   "metadata": {},
   "outputs": [],
   "source": []
  },
  {
   "cell_type": "code",
   "execution_count": null,
   "metadata": {},
   "outputs": [],
   "source": []
  },
  {
   "cell_type": "code",
   "execution_count": null,
   "metadata": {},
   "outputs": [],
   "source": []
  },
  {
   "cell_type": "code",
   "execution_count": null,
   "metadata": {},
   "outputs": [],
   "source": []
  },
  {
   "cell_type": "code",
   "execution_count": null,
   "metadata": {},
   "outputs": [],
   "source": []
  },
  {
   "cell_type": "code",
   "execution_count": null,
   "metadata": {},
   "outputs": [],
   "source": []
  },
  {
   "cell_type": "code",
   "execution_count": null,
   "metadata": {},
   "outputs": [],
   "source": []
  },
  {
   "cell_type": "code",
   "execution_count": null,
   "metadata": {},
   "outputs": [],
   "source": []
  }
 ],
 "metadata": {
  "kernelspec": {
   "display_name": "Python 3",
   "language": "python",
   "name": "python3"
  },
  "language_info": {
   "codemirror_mode": {
    "name": "ipython",
    "version": 3
   },
   "file_extension": ".py",
   "mimetype": "text/x-python",
   "name": "python",
   "nbconvert_exporter": "python",
   "pygments_lexer": "ipython3",
   "version": "3.7.3"
  }
 },
 "nbformat": 4,
 "nbformat_minor": 2
}
